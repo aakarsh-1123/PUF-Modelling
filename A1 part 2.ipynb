{
  "cells": [
    {
      "cell_type": "code",
      "source": [
        "import numpy as np\n",
        "import sklearn\n",
        "from scipy.linalg import khatri_rao\n",
        "from sklearn.svm import LinearSVC\n",
        "\n",
        "train_data = np.loadtxt(\"train.dat\")\n",
        "test_data = np.loadtxt(\"test.dat\")\n",
        "x_train = train_data[:, :-1]\n",
        "y_train = train_data[:, -1]\n",
        "x_test = test_data[:, :-1]\n",
        "y_test = test_data[:, -1]\n",
        "\n",
        "\n",
        "def my_map(x):\n",
        " x_t = np.ones((x.shape[0],x.shape[1]))\n",
        " for n in range(x.shape[0]):\n",
        "  for i in range(x.shape[1]):\n",
        "   for c in x[n,i:32]:\n",
        "    x_t[n][i] = x_t[n][i] * (1-2*c)\n",
        " xxT = np.zeros((x_t.shape[0],x_t.shape[1],x_t.shape[1]))\n",
        " xxTu = []\n",
        " xxtu = []\n",
        " for i in range(x_t.shape[0]):\n",
        "    temp = x_t[i].reshape(32,1)\n",
        "    xxT[i] = np.multiply(temp,temp.T)\n",
        "    for r in range(32):\n",
        "      for c in range(r+1,32):\n",
        "        xxtu.append(xxT[i][r][c])\n",
        "    xxTu.append(xxtu)\n",
        "    xxtu = []\n",
        " xxTu= np.array(xxTu)\n",
        " x_mapped = np.concatenate((xxTu,x_t),axis=1)\n",
        " return x_mapped\n",
        "\n",
        "def my_fit(x_train,y_train):\n",
        "  C_value = 11\n",
        "  max_iter_value = 10000\n",
        "  tol_value = 0.001\n",
        "\n",
        "  model_SVC = LinearSVC(loss='hinge', tol=tol_value, C=C_value, max_iter=max_iter_value)\n",
        "  x = my_map(x_train)\n",
        "  y = y_train\n",
        "\n",
        "  model_SVC.fit(x,y)\n",
        "\n",
        "  w = model_SVC.coef_.flatten()\n",
        "  b = model_SVC.intercept_\n",
        "\n",
        "  return w,b"
      ],
      "metadata": {
        "id": "QsLb1H6ZWKed"
      },
      "execution_count": 1,
      "outputs": []
    },
    {
      "cell_type": "code",
      "source": [
        "import time as tm"
      ],
      "metadata": {
        "id": "LRY3640hWjWd"
      },
      "execution_count": 2,
      "outputs": []
    },
    {
      "cell_type": "code",
      "source": [
        "Z_trn = np.loadtxt( \"secret_train.dat\" )\n",
        "Z_tst = np.loadtxt( \"secret_test.dat\" )\n",
        "\n",
        "n_trials = 5\n",
        "\n",
        "d_size = 0\n",
        "t_train = 0\n",
        "t_map = 0\n",
        "acc = 0"
      ],
      "metadata": {
        "id": "iPc-4s9TWp4C"
      },
      "execution_count": 3,
      "outputs": []
    },
    {
      "cell_type": "code",
      "source": [
        "for t in range( n_trials ):\n",
        "\ttic = tm.perf_counter()\n",
        "\tw, b = my_fit( Z_trn[:, :-1], Z_trn[:,-1] )\n",
        "\ttoc = tm.perf_counter()\n",
        "\tt_train += toc - tic\n",
        "\n",
        "\td_size += w.shape[0]\n",
        "\n",
        "\ttic = tm.perf_counter()\n",
        "\tfeat = my_map( Z_tst[:, :-1] )\n",
        "\ttoc = tm.perf_counter()\n",
        "\tt_map += toc - tic\n",
        "\n",
        "\tscores = feat.dot( w ) + b\n",
        "\tpred = np.zeros_like( scores )\n",
        "\tpred[scores > 0] = 1\n",
        "\tacc += np.average( Z_tst[ :, -1 ] == pred )"
      ],
      "metadata": {
        "colab": {
          "base_uri": "https://localhost:8080/"
        },
        "id": "qLBYKVirWtx1",
        "outputId": "df18d30f-d431-4bf8-ad03-27fb3c004ce6"
      },
      "execution_count": 5,
      "outputs": [
        {
          "output_type": "stream",
          "name": "stderr",
          "text": [
            "/usr/local/lib/python3.10/dist-packages/sklearn/svm/_base.py:1244: ConvergenceWarning: Liblinear failed to converge, increase the number of iterations.\n",
            "  warnings.warn(\n",
            "/usr/local/lib/python3.10/dist-packages/sklearn/svm/_base.py:1244: ConvergenceWarning: Liblinear failed to converge, increase the number of iterations.\n",
            "  warnings.warn(\n",
            "/usr/local/lib/python3.10/dist-packages/sklearn/svm/_base.py:1244: ConvergenceWarning: Liblinear failed to converge, increase the number of iterations.\n",
            "  warnings.warn(\n",
            "/usr/local/lib/python3.10/dist-packages/sklearn/svm/_base.py:1244: ConvergenceWarning: Liblinear failed to converge, increase the number of iterations.\n",
            "  warnings.warn(\n",
            "/usr/local/lib/python3.10/dist-packages/sklearn/svm/_base.py:1244: ConvergenceWarning: Liblinear failed to converge, increase the number of iterations.\n",
            "  warnings.warn(\n"
          ]
        }
      ]
    },
    {
      "cell_type": "code",
      "source": [
        "d_size /= n_trials\n",
        "t_train /= n_trials\n",
        "t_map /= n_trials\n",
        "acc /= n_trials\n",
        "\n",
        "print( d_size, t_train, t_map, 1 - acc )"
      ],
      "metadata": {
        "colab": {
          "base_uri": "https://localhost:8080/"
        },
        "id": "QOm6XP3pWwU8",
        "outputId": "4ed118cd-ea4f-4800-c2be-bfccc37d3213"
      },
      "execution_count": 6,
      "outputs": [
        {
          "output_type": "stream",
          "name": "stdout",
          "text": [
            "633.6 86.86423324500001 10.31761798179998 0.00782000000000005\n"
          ]
        }
      ]
    }
  ],
  "metadata": {
    "colab": {
      "provenance": []
    },
    "kernelspec": {
      "display_name": "Python 3",
      "name": "python3"
    },
    "language_info": {
      "name": "python"
    }
  },
  "nbformat": 4,
  "nbformat_minor": 0
}